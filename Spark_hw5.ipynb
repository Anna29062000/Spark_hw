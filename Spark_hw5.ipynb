{
  "nbformat": 4,
  "nbformat_minor": 0,
  "metadata": {
    "colab": {
      "provenance": []
    },
    "kernelspec": {
      "name": "python3",
      "display_name": "Python 3"
    },
    "language_info": {
      "name": "python"
    }
  },
  "cells": [
    {
      "cell_type": "code",
      "execution_count": null,
      "metadata": {
        "id": "IAS81CBya-Dr"
      },
      "outputs": [],
      "source": [
        "!pip install pyspark >> None"
      ]
    },
    {
      "cell_type": "code",
      "source": [
        "from pyspark.sql import SparkSession\n",
        "from pyspark.sql.functions import col, avg"
      ],
      "metadata": {
        "id": "-ekrx8dTbL0J"
      },
      "execution_count": 24,
      "outputs": []
    },
    {
      "cell_type": "code",
      "source": [
        "spark = SparkSession.builder \\\n",
        "    .appName(\"BooksAnalysis\") \\\n",
        "    .getOrCreate()\n",
        "\n",
        "df = spark.read.csv(\"books.csv\", header=True)"
      ],
      "metadata": {
        "id": "HZqoSjO2wfG4"
      },
      "execution_count": 32,
      "outputs": []
    },
    {
      "cell_type": "code",
      "source": [
        "df.show()"
      ],
      "metadata": {
        "colab": {
          "base_uri": "https://localhost:8080/"
        },
        "id": "CHk2NSiCzopL",
        "outputId": "7e35ec2c-9a81-48bf-e498-ebcc8124f524"
      },
      "execution_count": 26,
      "outputs": [
        {
          "output_type": "stream",
          "name": "stdout",
          "text": [
            "+--------------------+-------------------+---------------+-----+----+\n",
            "|               title|             author|          genre|sales|year|\n",
            "+--------------------+-------------------+---------------+-----+----+\n",
            "|              '1984'|      George Orwell|Science Fiction| 5000|1949|\n",
            "|The Lord of the R...|     J.R.R. Tolkien|        Fantasy| 3000|1954|\n",
            "|To Kill a Mocking...|         Harper Lee|Southern Gothic| 4000|1960|\n",
            "|The Catcher in th...|      J.D. Salinger|          Novel| 2000|1951|\n",
            "|    The Great Gatsby|F. Scott Fitzgerald|          Novel| 4500|1925|\n",
            "+--------------------+-------------------+---------------+-----+----+\n",
            "\n"
          ]
        }
      ]
    },
    {
      "cell_type": "code",
      "source": [
        "#Фильтрация данных для книг с продажами более 3000 экземпляров\n",
        "df_filtered = df.filter(col(\"sales\") > 3000)"
      ],
      "metadata": {
        "id": "sC5HCkj5xXuK"
      },
      "execution_count": 33,
      "outputs": []
    },
    {
      "cell_type": "code",
      "source": [
        "df_filtered.show()"
      ],
      "metadata": {
        "id": "uHhl13E518HF",
        "outputId": "675ba7e7-e22a-4def-b461-10971821e9f3",
        "colab": {
          "base_uri": "https://localhost:8080/"
        }
      },
      "execution_count": 34,
      "outputs": [
        {
          "output_type": "stream",
          "name": "stdout",
          "text": [
            "+--------------------+-------------------+---------------+-----+----+\n",
            "|               title|             author|          genre|sales|year|\n",
            "+--------------------+-------------------+---------------+-----+----+\n",
            "|              '1984'|      George Orwell|Science Fiction| 5000|1949|\n",
            "|To Kill a Mocking...|         Harper Lee|Southern Gothic| 4000|1960|\n",
            "|    The Great Gatsby|F. Scott Fitzgerald|          Novel| 4500|1925|\n",
            "+--------------------+-------------------+---------------+-----+----+\n",
            "\n"
          ]
        }
      ]
    },
    {
      "cell_type": "code",
      "source": [
        "#Группировка данных по жанру и вычисление общего объема продаж для каждого жанра по всем данным\n",
        "genre_sales = df.groupBy(\"genre\").agg({\"sales\": \"sum\"})"
      ],
      "metadata": {
        "id": "AjNhwFhqxbcq"
      },
      "execution_count": 41,
      "outputs": []
    },
    {
      "cell_type": "code",
      "source": [
        "genre_sales.show()"
      ],
      "metadata": {
        "id": "az7DOI882h1v",
        "outputId": "30af242a-5caf-4521-867a-cb08c03a3642",
        "colab": {
          "base_uri": "https://localhost:8080/"
        }
      },
      "execution_count": 42,
      "outputs": [
        {
          "output_type": "stream",
          "name": "stdout",
          "text": [
            "+---------------+----------+\n",
            "|          genre|sum(sales)|\n",
            "+---------------+----------+\n",
            "|Southern Gothic|    4000.0|\n",
            "|          Novel|    6500.0|\n",
            "|        Fantasy|    3000.0|\n",
            "|Science Fiction|    5000.0|\n",
            "+---------------+----------+\n",
            "\n"
          ]
        }
      ]
    },
    {
      "cell_type": "code",
      "source": [
        "#Сортировка данных по общему объему продаж в порядке убывания\n",
        "sorted_genre_sales = genre_sales.orderBy(\"sum(sales)\", ascending=False)"
      ],
      "metadata": {
        "id": "QOY08r4gxdfv"
      },
      "execution_count": 43,
      "outputs": []
    },
    {
      "cell_type": "code",
      "source": [
        "sorted_genre_sales.show()"
      ],
      "metadata": {
        "id": "FEo5Bw754NRR",
        "outputId": "4569d6d9-e0c7-4ac5-a471-00cde02e9fdd",
        "colab": {
          "base_uri": "https://localhost:8080/"
        }
      },
      "execution_count": 44,
      "outputs": [
        {
          "output_type": "stream",
          "name": "stdout",
          "text": [
            "+---------------+----------+\n",
            "|          genre|sum(sales)|\n",
            "+---------------+----------+\n",
            "|          Novel|    6500.0|\n",
            "|Science Fiction|    5000.0|\n",
            "|Southern Gothic|    4000.0|\n",
            "|        Fantasy|    3000.0|\n",
            "+---------------+----------+\n",
            "\n"
          ]
        }
      ]
    },
    {
      "cell_type": "code",
      "source": [
        "spark.stop()"
      ],
      "metadata": {
        "id": "zi27MpabxRow"
      },
      "execution_count": 45,
      "outputs": []
    }
  ]
}