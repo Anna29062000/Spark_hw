{
  "nbformat": 4,
  "nbformat_minor": 0,
  "metadata": {
    "colab": {
      "provenance": []
    },
    "kernelspec": {
      "name": "python3",
      "display_name": "Python 3"
    },
    "language_info": {
      "name": "python"
    }
  },
  "cells": [
    {
      "cell_type": "code",
      "execution_count": 16,
      "metadata": {
        "id": "-16AMnZZ0LyZ"
      },
      "outputs": [],
      "source": [
        "#Устанавливаем pySpark\n",
        "!pip install pyspark >> None"
      ]
    },
    {
      "cell_type": "code",
      "source": [
        "from pyspark.sql import SparkSession\n",
        "from pyspark.sql.functions import col\n",
        "import pandas as pd"
      ],
      "metadata": {
        "id": "HCc9_A1O0t_L"
      },
      "execution_count": 17,
      "outputs": []
    },
    {
      "cell_type": "code",
      "source": [
        "spark = SparkSession.builder \\\n",
        "    .appName(\"Find_Employees_With_Higher_Salary\") \\\n",
        "    .getOrCreate()\n",
        "\n",
        "data = {'id': [1, 2, 3, 4], 'Name': ['Joe', 'Henry', 'Sam', 'Max'],\n",
        "        'Salary': [70, 80, 60, 90], 'ManagerId': [3, 4, None, None]}\n",
        "\n",
        "df = spark.createDataFrame(pd.DataFrame(data))\n",
        "\n",
        "df = df.withColumn(\"Salary\", col(\"Salary\").cast(\"int\"))"
      ],
      "metadata": {
        "id": "INou_ty_0M2U"
      },
      "execution_count": 18,
      "outputs": []
    },
    {
      "cell_type": "code",
      "source": [
        "joined_df = df.alias(\"employees\").join(df.alias(\"managers\"), col(\"employees.ManagerId\") == col(\"managers.id\"), \"left\")\n",
        "\n",
        "result_df = joined_df.filter(col(\"employees.Salary\") > col(\"managers.Salary\"))"
      ],
      "metadata": {
        "id": "7L17CQJJ4kxa"
      },
      "execution_count": 19,
      "outputs": []
    },
    {
      "cell_type": "code",
      "source": [
        "result_names = result_df.select(\"employees.Name\").distinct()\n",
        "result_names.show(truncate=False)"
      ],
      "metadata": {
        "colab": {
          "base_uri": "https://localhost:8080/"
        },
        "id": "EICArPw10g20",
        "outputId": "aca6d633-28be-4ea0-e638-6d7bf8d83e64"
      },
      "execution_count": 21,
      "outputs": [
        {
          "output_type": "stream",
          "name": "stdout",
          "text": [
            "+----+\n",
            "|Name|\n",
            "+----+\n",
            "|Joe |\n",
            "+----+\n",
            "\n"
          ]
        }
      ]
    },
    {
      "cell_type": "code",
      "source": [
        "spark.stop()"
      ],
      "metadata": {
        "id": "LLVT9kaQ4_12"
      },
      "execution_count": 22,
      "outputs": []
    }
  ]
}